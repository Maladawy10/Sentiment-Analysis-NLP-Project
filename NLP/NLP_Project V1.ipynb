{
 "cells": [
  {
   "cell_type": "code",
   "execution_count": 14,
   "id": "908afb02",
   "metadata": {},
   "outputs": [],
   "source": [
    "#print(learning_curve(lrcv, X_train, Y_train,n_jobs=-1, cv=5, scoring='accuracy'))"
   ]
  },
  {
   "cell_type": "code",
   "execution_count": 15,
   "id": "af33c11a",
   "metadata": {
    "scrolled": true
   },
   "outputs": [
    {
     "data": {
      "text/plain": [
       "'import sys\\n!{sys.executable} -m pip install livelossplot'"
      ]
     },
     "execution_count": 15,
     "metadata": {},
     "output_type": "execute_result"
    }
   ],
   "source": [
    "'''import sys\n",
    "!{sys.executable} -m pip install livelossplot'''"
   ]
  },
  {
   "cell_type": "code",
   "execution_count": 16,
   "id": "03c93735",
   "metadata": {},
   "outputs": [
    {
     "data": {
      "text/plain": [
       "'from livelossplot import PlotLossesKeras\\nfrom livelossplot import PlotLosses'"
      ]
     },
     "execution_count": 16,
     "metadata": {},
     "output_type": "execute_result"
    }
   ],
   "source": [
    "'''from livelossplot import PlotLossesKeras\n",
    "from livelossplot import PlotLosses'''"
   ]
  },
  {
   "cell_type": "code",
   "execution_count": 17,
   "id": "8ec6ef36",
   "metadata": {},
   "outputs": [
    {
     "data": {
      "text/plain": [
       "\"import sys\\n!{sys.executable} -m pip install xgboost\\nfrom sklearn.metrics import accuracy_score\\nfrom xgboost import XGBClassifier\\nmodel = XGBClassifier()\\n# define the datasets to evaluate each iteration\\nevalset = [(X_train, Y_train), (X_test,Y_test)]\\n# fit the model\\nmodel.fit(X_train, Y_train, eval_metric='logloss', eval_set=evalset)\\n# evaluate performance\\nyhat = model.predict(X_test)\\nscore = accuracy_score(Y_test, yhat)\\nprint('Accuracy: %.3f' % score)\\n# retrieve performance metrics\\nresults = model.evals_result()\\n# plot learning curves\\nplt.plot(results['validation_0']['logloss'], label='train')\\nplt.plot(results['validation_1']['logloss'], label='test')\\n# show the legend\\nplt.legend()\\n# show the plot\\nplt.show()\""
      ]
     },
     "execution_count": 17,
     "metadata": {},
     "output_type": "execute_result"
    }
   ],
   "source": [
    "'''import sys\n",
    "!{sys.executable} -m pip install xgboost\n",
    "from sklearn.metrics import accuracy_score\n",
    "from xgboost import XGBClassifier\n",
    "model = XGBClassifier()\n",
    "# define the datasets to evaluate each iteration\n",
    "evalset = [(X_train, Y_train), (X_test,Y_test)]\n",
    "# fit the model\n",
    "model.fit(X_train, Y_train, eval_metric='logloss', eval_set=evalset)\n",
    "# evaluate performance\n",
    "yhat = model.predict(X_test)\n",
    "score = accuracy_score(Y_test, yhat)\n",
    "print('Accuracy: %.3f' % score)\n",
    "# retrieve performance metrics\n",
    "results = model.evals_result()\n",
    "# plot learning curves\n",
    "plt.plot(results['validation_0']['logloss'], label='train')\n",
    "plt.plot(results['validation_1']['logloss'], label='test')\n",
    "# show the legend\n",
    "plt.legend()\n",
    "# show the plot\n",
    "plt.show()'''"
   ]
  },
  {
   "cell_type": "code",
   "execution_count": 18,
   "id": "49bbd844",
   "metadata": {},
   "outputs": [
    {
     "data": {
      "text/plain": [
       "'est=LogisticRegressionCV(cv=5,\\n                            random_state=1,\\n                            n_jobs=-1,\\n                            scoring=\\'accuracy\\',\\n                            max_iter=300)\\ntrain_sizes, train_scores, test_scores = learning_curve(lrcv,\\n                                                         X_train, Y_train, cv=5, \\n                                                         scoring=\\'accuracy\\', n_jobs=-1,random_state=1, train_sizes=np.linspace(0.01, 1.0, 50))\\ntrain_mean = np.mean(train_scores, axis=1)\\ntrain_std = np.std(train_scores, axis=1)\\n\\ntest_mean = np.mean(test_scores, axis=1)\\ntest_std = np.std(test_scores, axis=1)\\nplt.subplots(1, figsize=(10,10))\\nplt.plot(train_sizes, train_mean, \\'--\\', color=\"#111111\",  label=\"Training score\")\\nplt.plot(train_sizes, test_mean, color=\"#111111\", label=\"Cross-validation score\")\\nplt.fill_between(train_sizes, train_mean - train_std, train_mean + train_std, color=\"#DDDDDD\")\\nplt.fill_between(train_sizes, test_mean - test_std, test_mean + test_std, color=\"#DDDDDD\")\\nplt.title(\"Learning Curve\")\\nplt.xlabel(\"Training Set Size\"), plt.ylabel(\"Accuracy Score\"), plt.legend(loc=\"best\")\\nplt.tight_layout()\\nplt.show()'"
      ]
     },
     "execution_count": 18,
     "metadata": {},
     "output_type": "execute_result"
    }
   ],
   "source": [
    "'''est=LogisticRegressionCV(cv=5,\n",
    "                            random_state=1,\n",
    "                            n_jobs=-1,\n",
    "                            scoring='accuracy',\n",
    "                            max_iter=300)\n",
    "train_sizes, train_scores, test_scores = learning_curve(lrcv,\n",
    "                                                         X_train, Y_train, cv=5, \n",
    "                                                         scoring='accuracy', n_jobs=-1,random_state=1, train_sizes=np.linspace(0.01, 1.0, 50))\n",
    "train_mean = np.mean(train_scores, axis=1)\n",
    "train_std = np.std(train_scores, axis=1)\n",
    "\n",
    "test_mean = np.mean(test_scores, axis=1)\n",
    "test_std = np.std(test_scores, axis=1)\n",
    "plt.subplots(1, figsize=(10,10))\n",
    "plt.plot(train_sizes, train_mean, '--', color=\"#111111\",  label=\"Training score\")\n",
    "plt.plot(train_sizes, test_mean, color=\"#111111\", label=\"Cross-validation score\")\n",
    "plt.fill_between(train_sizes, train_mean - train_std, train_mean + train_std, color=\"#DDDDDD\")\n",
    "plt.fill_between(train_sizes, test_mean - test_std, test_mean + test_std, color=\"#DDDDDD\")\n",
    "plt.title(\"Learning Curve\")\n",
    "plt.xlabel(\"Training Set Size\"), plt.ylabel(\"Accuracy Score\"), plt.legend(loc=\"best\")\n",
    "plt.tight_layout()\n",
    "plt.show()'''"
   ]
  },
  {
   "cell_type": "code",
   "execution_count": 19,
   "id": "0869f630",
   "metadata": {},
   "outputs": [
    {
     "data": {
      "text/plain": [
       "'import sys\\n!{sys.executable} -m pip install gensim'"
      ]
     },
     "execution_count": 19,
     "metadata": {},
     "output_type": "execute_result"
    }
   ],
   "source": [
    "'''import sys\n",
    "!{sys.executable} -m pip install gensim'''"
   ]
  },
  {
   "cell_type": "code",
   "execution_count": 1,
   "id": "69598573",
   "metadata": {},
   "outputs": [],
   "source": [
    "import numpy as np\n",
    "import pandas as pd\n",
    "import matplotlib.pyplot as plt\n",
    "import os\n",
    "from sklearn.model_selection import train_test_split\n",
    "import nltk\n",
    "from nltk.tokenize import RegexpTokenizer\n",
    "from nltk.corpus import stopwords\n",
    "import re\n",
    "from nltk.stem.porter import PorterStemmer\n",
    "from sklearn.feature_extraction.text import TfidfVectorizer\n",
    "from sklearn.linear_model import LogisticRegressionCV\n",
    "from sklearn.linear_model import LogisticRegression\n",
    "from sklearn.linear_model import RidgeClassifierCV\n",
    "from sklearn.svm import LinearSVC\n",
    "from sklearn.svm import SVC\n",
    "import matplotlib.pyplot as plt\n",
    "from nltk.tokenize import word_tokenize\n",
    "from sklearn.model_selection import validation_curve\n",
    "from sklearn.model_selection import learning_curve\n",
    "from sklearn.naive_bayes import MultinomialNB\n",
    "from sklearn.feature_extraction.text import CountVectorizer\n",
    "import seaborn as sns"
   ]
  },
  {
   "cell_type": "code",
   "execution_count": 2,
   "id": "7b5b0b9a",
   "metadata": {},
   "outputs": [],
   "source": [
    "reviews=list()\n",
    "for path, currentDirectory, files in os.walk(\"Desktop/txt_sentoken/pos/\"):\n",
    "    for file in files:\n",
    "        if file.startswith(\"cv\"):\n",
    "            txt=open(path+file,\"r\")\n",
    "            review=txt.read()\n",
    "            reviews.append(review)\n",
    "            txt.close()\n",
    "    pos_size=len(reviews)\n",
    "for path, currentDirectory, files in os.walk(\"Desktop/txt_sentoken/neg/\"):\n",
    "    for file in files:\n",
    "        if file.startswith(\"cv\"):\n",
    "            txt=open(path+file,\"r\")\n",
    "            review=txt.read()\n",
    "            reviews.append(review)\n",
    "            txt.close()\n",
    "    neg_size=len(reviews)-pos_size"
   ]
  },
  {
   "cell_type": "code",
   "execution_count": 3,
   "id": "107ca39c",
   "metadata": {},
   "outputs": [],
   "source": [
    "classes=np.ones((int(len(reviews)/2),1))\n",
    "classes=np.append(classes,np.zeros((int(len(reviews)/2),1)), axis=0)"
   ]
  },
  {
   "cell_type": "code",
   "execution_count": 4,
   "id": "492730e0",
   "metadata": {},
   "outputs": [
    {
     "name": "stderr",
     "output_type": "stream",
     "text": [
      "[nltk_data] Downloading package stopwords to\n",
      "[nltk_data]     C:\\Users\\clt\\AppData\\Roaming\\nltk_data...\n",
      "[nltk_data]   Package stopwords is already up-to-date!\n",
      "[nltk_data] Downloading package punkt to\n",
      "[nltk_data]     C:\\Users\\clt\\AppData\\Roaming\\nltk_data...\n",
      "[nltk_data]   Package punkt is already up-to-date!\n"
     ]
    }
   ],
   "source": [
    "porter=PorterStemmer()\n",
    "nltk.download(\"stopwords\")\n",
    "nltk.download('punkt')\n",
    "stop_words=stopwords.words(\"english\")\n",
    "def preprocessing(txt):\n",
    "    txt=txt.lower()\n",
    "    txt=txt.replace('\\n',\"\")\n",
    "    txt=txt.replace('(',\"\")\n",
    "    txt=txt.replace(')',\"\")\n",
    "    txt=txt.replace('.',\"\")\n",
    "    txt=txt.replace('?',\"\")\n",
    "    txt=txt.replace('!',\"\")\n",
    "    txt=txt.replace(':',\"\")\n",
    "    txt=txt.replace(',',\"\")\n",
    "    txt=txt.replace('\\\\',\"\")\n",
    "    txt=txt.replace('\\\"',\"\")\n",
    "    txt=txt.replace('/',\"\")\n",
    "    #txt=txt.replace('-',\"\")\n",
    "    txt=txt.replace(\"'\",\"\")\n",
    "    pattern = r'[0-9]'\n",
    "    txt = re.sub(pattern, '', txt)\n",
    "    return txt\n",
    "def tokenize_stop_stem(txt):\n",
    "    return [rev for rev in [porter.stem(word) for word in word_tokenize(txt)]if rev not in stop_words]\n",
    "    "
   ]
  },
  {
   "cell_type": "code",
   "execution_count": 5,
   "id": "b94bbcf3",
   "metadata": {},
   "outputs": [],
   "source": [
    "for i in range(len(reviews)): \n",
    "    reviews[i]=preprocessing(reviews[i])\n",
    "    #reviews[i]=tokenize_stop_stem(reviews[i])\n",
    "    "
   ]
  },
  {
   "cell_type": "code",
   "execution_count": 6,
   "id": "47699beb",
   "metadata": {},
   "outputs": [
    {
     "data": {
      "text/plain": [
       "'tfidf = TfidfVectorizer(lowercase=False,\\n                        tokenizer=tokenize_stop_stem,\\n                        use_idf=True,ngram_range=(1,2),binary=True)\\nreviews = tfidf.fit_transform(reviews)'"
      ]
     },
     "execution_count": 6,
     "metadata": {},
     "output_type": "execute_result"
    }
   ],
   "source": [
    "cv=CountVectorizer(ngram_range=(1,2),tokenizer=tokenize_stop_stem,binary=True,lowercase=False)\n",
    "reviews = cv.fit_transform(reviews)\n",
    "'''tfidf = TfidfVectorizer(lowercase=False,\n",
    "                        tokenizer=tokenize_stop_stem,\n",
    "                        use_idf=True,ngram_range=(1,2),binary=True)\n",
    "reviews = tfidf.fit_transform(reviews)'''"
   ]
  },
  {
   "cell_type": "code",
   "execution_count": 7,
   "id": "728fcef9",
   "metadata": {},
   "outputs": [],
   "source": [
    "X_train, X_test, Y_train, Y_test = train_test_split(reviews, classes, random_state=1, test_size=0.3, shuffle=True)"
   ]
  },
  {
   "cell_type": "code",
   "execution_count": 8,
   "id": "cbc177a8",
   "metadata": {
    "scrolled": false
   },
   "outputs": [
    {
     "name": "stderr",
     "output_type": "stream",
     "text": [
      "F:\\Mahmoud\\Anaconda3\\lib\\site-packages\\sklearn\\utils\\validation.py:63: DataConversionWarning: A column-vector y was passed when a 1d array was expected. Please change the shape of y to (n_samples, ), for example using ravel().\n",
      "  return f(*args, **kwargs)\n",
      "F:\\Mahmoud\\Anaconda3\\lib\\site-packages\\sklearn\\utils\\validation.py:63: DataConversionWarning: A column-vector y was passed when a 1d array was expected. Please change the shape of y to (n_samples, ), for example using ravel().\n",
      "  return f(*args, **kwargs)\n",
      "F:\\Mahmoud\\Anaconda3\\lib\\site-packages\\sklearn\\utils\\validation.py:63: DataConversionWarning: A column-vector y was passed when a 1d array was expected. Please change the shape of y to (n_samples, ), for example using ravel().\n",
      "  return f(*args, **kwargs)\n",
      "F:\\Mahmoud\\Anaconda3\\lib\\site-packages\\sklearn\\utils\\validation.py:63: DataConversionWarning: A column-vector y was passed when a 1d array was expected. Please change the shape of y to (n_samples, ), for example using ravel().\n",
      "  return f(*args, **kwargs)\n",
      "F:\\Mahmoud\\Anaconda3\\lib\\site-packages\\sklearn\\utils\\validation.py:63: DataConversionWarning: A column-vector y was passed when a 1d array was expected. Please change the shape of y to (n_samples, ), for example using ravel().\n",
      "  return f(*args, **kwargs)\n",
      "F:\\Mahmoud\\Anaconda3\\lib\\site-packages\\sklearn\\utils\\validation.py:63: DataConversionWarning: A column-vector y was passed when a 1d array was expected. Please change the shape of y to (n_samples, ), for example using ravel().\n",
      "  return f(*args, **kwargs)\n",
      "F:\\Mahmoud\\Anaconda3\\lib\\site-packages\\sklearn\\utils\\validation.py:63: DataConversionWarning: A column-vector y was passed when a 1d array was expected. Please change the shape of y to (n_samples, ), for example using ravel().\n",
      "  return f(*args, **kwargs)\n",
      "F:\\Mahmoud\\Anaconda3\\lib\\site-packages\\sklearn\\utils\\validation.py:63: DataConversionWarning: A column-vector y was passed when a 1d array was expected. Please change the shape of y to (n_samples, ), for example using ravel().\n",
      "  return f(*args, **kwargs)\n",
      "F:\\Mahmoud\\Anaconda3\\lib\\site-packages\\sklearn\\utils\\validation.py:63: DataConversionWarning: A column-vector y was passed when a 1d array was expected. Please change the shape of y to (n_samples, ), for example using ravel().\n",
      "  return f(*args, **kwargs)\n",
      "F:\\Mahmoud\\Anaconda3\\lib\\site-packages\\sklearn\\utils\\validation.py:63: DataConversionWarning: A column-vector y was passed when a 1d array was expected. Please change the shape of y to (n_samples, ), for example using ravel().\n",
      "  return f(*args, **kwargs)\n"
     ]
    },
    {
     "data": {
      "image/png": "[encoded data removed]",
      "text/plain": [
       "<Figure size 432x288 with 1 Axes>"
      ]
     },
     "metadata": {
      "needs_background": "light"
     },
     "output_type": "display_data"
    },
    {
     "name": "stderr",
     "output_type": "stream",
     "text": [
      "F:\\Mahmoud\\Anaconda3\\lib\\site-packages\\sklearn\\utils\\validation.py:63: DataConversionWarning: A column-vector y was passed when a 1d array was expected. Please change the shape of y to (n_samples, ), for example using ravel().\n",
      "  return f(*args, **kwargs)\n",
      "F:\\Mahmoud\\Anaconda3\\lib\\site-packages\\sklearn\\utils\\validation.py:63: DataConversionWarning: A column-vector y was passed when a 1d array was expected. Please change the shape of y to (n_samples, ), for example using ravel().\n",
      "  return f(*args, **kwargs)\n",
      "F:\\Mahmoud\\Anaconda3\\lib\\site-packages\\sklearn\\utils\\validation.py:63: DataConversionWarning: A column-vector y was passed when a 1d array was expected. Please change the shape of y to (n_samples, ), for example using ravel().\n",
      "  return f(*args, **kwargs)\n",
      "F:\\Mahmoud\\Anaconda3\\lib\\site-packages\\sklearn\\utils\\validation.py:63: DataConversionWarning: A column-vector y was passed when a 1d array was expected. Please change the shape of y to (n_samples, ), for example using ravel().\n",
      "  return f(*args, **kwargs)\n",
      "F:\\Mahmoud\\Anaconda3\\lib\\site-packages\\sklearn\\utils\\validation.py:63: DataConversionWarning: A column-vector y was passed when a 1d array was expected. Please change the shape of y to (n_samples, ), for example using ravel().\n",
      "  return f(*args, **kwargs)\n"
     ]
    }
   ],
   "source": [
    "itrl=list()\n",
    "ac=list()\n",
    "maxnum=140\n",
    "for i in range(10):\n",
    "    svc=LinearSVC(penalty='l2', loss='squared_hinge',C=0.5, random_state=1, max_iter=300).fit(X_train[0:maxnum,:], Y_train[0:maxnum,:])\n",
    "    ac.append(svc.score(X_test,Y_test)*100)\n",
    "    itrl.append(maxnum)\n",
    "    maxnum=maxnum+140\n",
    "plt.plot(itrl,ac, color='green', linestyle='dashed', linewidth = 2,\n",
    "         marker='o', markerfacecolor='blue', markersize=12)\n",
    "plt.ylim(0,101)\n",
    "plt.xlim(0,1500)\n",
    "plt.title('Learning Curve (LinearSVC)')\n",
    "plt.xlabel(\"No. of Training samples\")\n",
    "plt.ylabel(\"Accuracy\")\n",
    "plt.show()\n",
    "lrcv = LogisticRegressionCV(cv=5,\n",
    "                            random_state=1,\n",
    "                            n_jobs=-1,\n",
    "                            scoring='accuracy',\n",
    "                            max_iter=300).fit(X_train, Y_train)\n",
    "Mulnb=MultinomialNB(alpha=0.1).fit(X_train, Y_train)\n",
    "rccv = RidgeClassifierCV(cv=5,scoring='accuracy').fit(X_train, Y_train)\n",
    "svc=LinearSVC(penalty='l2', loss='squared_hinge',C=0.5, random_state=1, max_iter=300).fit(X_train, Y_train)\n",
    "lr = LogisticRegression(random_state=1,max_iter=300, n_jobs=-1).fit(X_train, Y_train)\n",
    "svc_score=svc.score(X_test,Y_test)*100\n",
    "svc_predict=svc.predict(X_test)\n",
    "rccv_score=rccv.score(X_test,Y_test)*100\n",
    "lr_score=lr.score(X_test,Y_test)*100\n",
    "lrcv_score=lrcv.score(X_test,Y_test)*100\n",
    "Mulnb_score=Mulnb.score(X_test,Y_test)*100\n"
   ]
  },
  {
   "cell_type": "code",
   "execution_count": 20,
   "id": "3a65f1a1",
   "metadata": {},
   "outputs": [
    {
     "data": {
      "image/png": "[encoded data removed]",
      "text/plain": [
       "<Figure size 432x288 with 2 Axes>"
      ]
     },
     "metadata": {
      "needs_background": "light"
     },
     "output_type": "display_data"
    }
   ],
   "source": [
    "from sklearn.metrics import confusion_matrix\n",
    "cf = confusion_matrix(Y_test, svc_predict)\n",
    "\n",
    "import seaborn as sns\n",
    "\n",
    "ax = sns.heatmap(cf/np.sum(cf), annot=True,fmt='.2%', cmap='Blues')\n",
    "\n",
    "ax.set_title('Confusion Matrix for SVC Model\\n\\n');\n",
    "ax.set_xlabel('\\nPredicted Values')\n",
    "ax.set_ylabel('Actual Values ');\n",
    "\n",
    "ax.xaxis.set_ticklabels(['Negative','Positive'])\n",
    "ax.yaxis.set_ticklabels(['Negative','Positive'])\n",
    "\n",
    "plt.show()"
   ]
  },
  {
   "cell_type": "code",
   "execution_count": 157,
   "id": "56f1682f",
   "metadata": {},
   "outputs": [
    {
     "data": {
      "image/png": "[encoded data removed]",
      "text/plain": [
       "<Figure size 432x288 with 1 Axes>"
      ]
     },
     "metadata": {
      "needs_background": "light"
     },
     "output_type": "display_data"
    }
   ],
   "source": [
    "plt.plot(['svc','rccv' ,'lr','lrcv','Mulnb'],[svc_score,rccv_score,lr_score,lrcv_score,Mulnb_score], color='green', linestyle='dashed', linewidth = 2,\n",
    "         marker='o', markerfacecolor='blue', markersize=12)\n",
    "plt.figtext(1,0.7, '''LinearSVC: svc\n",
    "RidgeClassifierCV: rccv\n",
    "LogisticRegression: lr\n",
    "LogisticRegressionCV: lrcv\n",
    "MultinomialNB: Mulnb''', ha=\"left\", va=\"center\", fontsize=15,bbox={\"facecolor\":\"blue\", \"alpha\":0.5})\n",
    "plt.ylim(0,101)\n",
    "plt.title('Models\\' Evaluation')\n",
    "plt.xlabel(\"Models\")\n",
    "plt.ylabel(\"Accuracy\")\n",
    "plt.show()"
   ]
  },
  {
   "cell_type": "code",
   "execution_count": 16,
   "id": "0d629eb3",
   "metadata": {},
   "outputs": [
    {
     "data": {
      "image/png": "[encoded data removed]",
      "text/plain": [
       "<Figure size 432x288 with 1 Axes>"
      ]
     },
     "metadata": {
      "needs_background": "light"
     },
     "output_type": "display_data"
    },
    {
     "data": {
      "image/png": "[encoded data removed]",
      "text/plain": [
       "<Figure size 432x288 with 1 Axes>"
      ]
     },
     "metadata": {
      "needs_background": "light"
     },
     "output_type": "display_data"
    }
   ],
   "source": [
    "fig = plt.figure()\n",
    "ax = fig.add_axes([0,0,1,1])\n",
    "labels = ['Train Data Size', 'Test Data Size','Data Size']\n",
    "sizes = [X_train.shape[0],X_test.shape[0],X_test.shape[0]+X_train.shape[0]]\n",
    "ax.bar(labels,sizes)\n",
    "plt.show()\n",
    "fig = plt.figure()\n",
    "ax = fig.add_axes([0,0,1,1])\n",
    "labels2 = ['No. of positive reviews', 'No. of nagative reviews']\n",
    "sizes2 = [pos_size,neg_size]\n",
    "ax.bar(labels2,sizes2)\n",
    "plt.show()"
   ]
  },
  {
   "cell_type": "code",
   "execution_count": null,
   "id": "e432fe7a",
   "metadata": {},
   "outputs": [],
   "source": []
  }
 ],
 "metadata": {
  "kernelspec": {
   "display_name": "Python 3",
   "language": "python",
   "name": "python3"
  },
  "language_info": {
   "codemirror_mode": {
    "name": "ipython",
    "version": 3
   },
   "file_extension": ".py",
   "mimetype": "text/x-python",
   "name": "python",
   "nbconvert_exporter": "python",
   "pygments_lexer": "ipython3",
   "version": "3.8.8"
  }
 },
 "nbformat": 4,
 "nbformat_minor": 5
}
